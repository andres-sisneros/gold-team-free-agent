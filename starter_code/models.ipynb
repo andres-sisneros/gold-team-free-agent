{
 "cells": [
  {
   "cell_type": "markdown",
   "metadata": {},
   "source": [
    "# Baltimore Ravens Free Agent Value Prediction Challenge\n",
    "\n",
    "Modeling tutorial\n",
    "\n",
    "## Load libraries"
   ]
  },
  {
   "cell_type": "code",
   "execution_count": 1,
   "metadata": {
    "collapsed": true
   },
   "outputs": [],
   "source": [
    "import pandas as pd\n",
    "import matplotlib.pyplot as plt\n",
    "import numpy as np\n",
    "%matplotlib inline"
   ]
  },
  {
   "cell_type": "markdown",
   "metadata": {},
   "source": [
    "## Load data\n",
    "\n",
    "We use the combined dataset from the starter code."
   ]
  },
  {
   "cell_type": "code",
   "execution_count": 3,
   "metadata": {
    "collapsed": false
   },
   "outputs": [
    {
     "data": {
      "text/html": [
       "<div>\n",
       "<style>\n",
       "    .dataframe thead tr:only-child th {\n",
       "        text-align: right;\n",
       "    }\n",
       "\n",
       "    .dataframe thead th {\n",
       "        text-align: left;\n",
       "    }\n",
       "\n",
       "    .dataframe tbody tr th {\n",
       "        vertical-align: top;\n",
       "    }\n",
       "</style>\n",
       "<table border=\"1\" class=\"dataframe\">\n",
       "  <thead>\n",
       "    <tr style=\"text-align: right;\">\n",
       "      <th></th>\n",
       "      <th>player_id_otc</th>\n",
       "      <th>Team</th>\n",
       "      <th>team_id</th>\n",
       "      <th>Position</th>\n",
       "      <th>Role</th>\n",
       "      <th>Years</th>\n",
       "      <th>date_signed</th>\n",
       "      <th>year_signed</th>\n",
       "      <th>start_year</th>\n",
       "      <th>Total</th>\n",
       "      <th>...</th>\n",
       "      <th>pass_snaps</th>\n",
       "      <th>receiving_snaps</th>\n",
       "      <th>passblock_snaps</th>\n",
       "      <th>run_snaps</th>\n",
       "      <th>runblock_snaps</th>\n",
       "      <th>rundefense_snaps</th>\n",
       "      <th>passrush_snaps</th>\n",
       "      <th>coverage_snaps</th>\n",
       "      <th>total_snaps</th>\n",
       "      <th>games</th>\n",
       "    </tr>\n",
       "  </thead>\n",
       "  <tbody>\n",
       "    <tr>\n",
       "      <th>0</th>\n",
       "      <td>51</td>\n",
       "      <td>49ers</td>\n",
       "      <td>31</td>\n",
       "      <td>43OLB</td>\n",
       "      <td>Defense</td>\n",
       "      <td>6</td>\n",
       "      <td>NaN</td>\n",
       "      <td>2012</td>\n",
       "      <td>2012</td>\n",
       "      <td>40400000</td>\n",
       "      <td>...</td>\n",
       "      <td>0.0</td>\n",
       "      <td>0.0</td>\n",
       "      <td>0.0</td>\n",
       "      <td>0.0</td>\n",
       "      <td>0.0</td>\n",
       "      <td>387.0</td>\n",
       "      <td>555.0</td>\n",
       "      <td>180.0</td>\n",
       "      <td>1122.0</td>\n",
       "      <td>18.0</td>\n",
       "    </tr>\n",
       "    <tr>\n",
       "      <th>1</th>\n",
       "      <td>53</td>\n",
       "      <td>Vikings</td>\n",
       "      <td>24</td>\n",
       "      <td>LG</td>\n",
       "      <td>Offense</td>\n",
       "      <td>4</td>\n",
       "      <td>NaN</td>\n",
       "      <td>2016</td>\n",
       "      <td>2016</td>\n",
       "      <td>26800000</td>\n",
       "      <td>...</td>\n",
       "      <td>0.0</td>\n",
       "      <td>0.0</td>\n",
       "      <td>478.0</td>\n",
       "      <td>0.0</td>\n",
       "      <td>307.0</td>\n",
       "      <td>0.0</td>\n",
       "      <td>0.0</td>\n",
       "      <td>0.0</td>\n",
       "      <td>785.0</td>\n",
       "      <td>13.0</td>\n",
       "    </tr>\n",
       "    <tr>\n",
       "      <th>2</th>\n",
       "      <td>54</td>\n",
       "      <td>Panthers</td>\n",
       "      <td>26</td>\n",
       "      <td>P</td>\n",
       "      <td>Special</td>\n",
       "      <td>2</td>\n",
       "      <td>42792.0</td>\n",
       "      <td>2017</td>\n",
       "      <td>2017</td>\n",
       "      <td>5000000</td>\n",
       "      <td>...</td>\n",
       "      <td>NaN</td>\n",
       "      <td>NaN</td>\n",
       "      <td>NaN</td>\n",
       "      <td>NaN</td>\n",
       "      <td>NaN</td>\n",
       "      <td>NaN</td>\n",
       "      <td>NaN</td>\n",
       "      <td>NaN</td>\n",
       "      <td>NaN</td>\n",
       "      <td>NaN</td>\n",
       "    </tr>\n",
       "    <tr>\n",
       "      <th>3</th>\n",
       "      <td>74</td>\n",
       "      <td>Cowboys</td>\n",
       "      <td>18</td>\n",
       "      <td>C</td>\n",
       "      <td>Offense</td>\n",
       "      <td>2</td>\n",
       "      <td>NaN</td>\n",
       "      <td>2016</td>\n",
       "      <td>2016</td>\n",
       "      <td>1675000</td>\n",
       "      <td>...</td>\n",
       "      <td>0.0</td>\n",
       "      <td>0.0</td>\n",
       "      <td>279.0</td>\n",
       "      <td>0.0</td>\n",
       "      <td>149.0</td>\n",
       "      <td>0.0</td>\n",
       "      <td>0.0</td>\n",
       "      <td>0.0</td>\n",
       "      <td>428.0</td>\n",
       "      <td>8.0</td>\n",
       "    </tr>\n",
       "    <tr>\n",
       "      <th>4</th>\n",
       "      <td>79</td>\n",
       "      <td>Raiders</td>\n",
       "      <td>16</td>\n",
       "      <td>WR</td>\n",
       "      <td>Offense</td>\n",
       "      <td>4</td>\n",
       "      <td>NaN</td>\n",
       "      <td>2015</td>\n",
       "      <td>2016</td>\n",
       "      <td>34000000</td>\n",
       "      <td>...</td>\n",
       "      <td>0.0</td>\n",
       "      <td>506.0</td>\n",
       "      <td>0.0</td>\n",
       "      <td>1.0</td>\n",
       "      <td>233.0</td>\n",
       "      <td>0.0</td>\n",
       "      <td>0.0</td>\n",
       "      <td>0.0</td>\n",
       "      <td>740.0</td>\n",
       "      <td>16.0</td>\n",
       "    </tr>\n",
       "  </tbody>\n",
       "</table>\n",
       "<p>5 rows × 62 columns</p>\n",
       "</div>"
      ],
      "text/plain": [
       "   player_id_otc      Team  team_id Position     Role Years  date_signed  \\\n",
       "0             51     49ers       31    43OLB  Defense     6          NaN   \n",
       "1             53   Vikings       24       LG  Offense     4          NaN   \n",
       "2             54  Panthers       26        P  Special     2      42792.0   \n",
       "3             74   Cowboys       18        C  Offense     2          NaN   \n",
       "4             79   Raiders       16       WR  Offense     4          NaN   \n",
       "\n",
       "   year_signed  start_year     Total  ...    pass_snaps  receiving_snaps  \\\n",
       "0         2012        2012  40400000  ...           0.0              0.0   \n",
       "1         2016        2016  26800000  ...           0.0              0.0   \n",
       "2         2017        2017   5000000  ...           NaN              NaN   \n",
       "3         2016        2016   1675000  ...           0.0              0.0   \n",
       "4         2015        2016  34000000  ...           0.0            506.0   \n",
       "\n",
       "   passblock_snaps run_snaps  runblock_snaps  rundefense_snaps  \\\n",
       "0              0.0       0.0             0.0             387.0   \n",
       "1            478.0       0.0           307.0               0.0   \n",
       "2              NaN       NaN             NaN               NaN   \n",
       "3            279.0       0.0           149.0               0.0   \n",
       "4              0.0       1.0           233.0               0.0   \n",
       "\n",
       "   passrush_snaps  coverage_snaps  total_snaps  games  \n",
       "0           555.0           180.0       1122.0   18.0  \n",
       "1             0.0             0.0        785.0   13.0  \n",
       "2             NaN             NaN          NaN    NaN  \n",
       "3             0.0             0.0        428.0    8.0  \n",
       "4             0.0             0.0        740.0   16.0  \n",
       "\n",
       "[5 rows x 62 columns]"
      ]
     },
     "execution_count": 3,
     "metadata": {},
     "output_type": "execute_result"
    }
   ],
   "source": [
    "data = pd.read_csv('./mdst-nfl-free-agents/contracts_players_perf.csv', index_col=0)\n",
    "data.head()"
   ]
  },
  {
   "cell_type": "markdown",
   "metadata": {},
   "source": [
    "## Clean for model building\n",
    "\n",
    "First, we select relevant columns that will be used for prediction. Many columns are not relevant and will be left out. Many of the columns we leave out might actually be relevant and useful, but be careful not to let any information from the contracts leak into your training procedure."
   ]
  },
  {
   "cell_type": "code",
   "execution_count": 4,
   "metadata": {
    "collapsed": false
   },
   "outputs": [
    {
     "name": "stdout",
     "output_type": "stream",
     "text": [
      "['player_id_otc', 'Team', 'team_id', 'Position', 'Role', 'Years', 'date_signed', 'year_signed', 'start_year', 'Total', 'APY', 'Guarantee', 'GPY', 'GP', 'total_guarantees', 'vested_guarantees', 'signing_bonus', 'option_bonus', 'roster_bonus', 'pergame_bonus', 'workout_bonus', 'incentives', 'FA', 'Status', 'contract_type', 'Accrued', 'height', 'weight', 'DOB', 'college', 'original_team_id', 'draft_year', 'draft_round', 'draft_pick', 'Notes', 'nfl_player_id', 'Name', 'season', 'player_id_pff', 'player', 'pos', 'overall', 'overall_rk', 'pass', 'run', 'receiving', 'passblock', 'runblock', 'passrush', 'rundefense', 'coverage', 'discipline', 'pass_snaps', 'receiving_snaps', 'passblock_snaps', 'run_snaps', 'runblock_snaps', 'rundefense_snaps', 'passrush_snaps', 'coverage_snaps', 'total_snaps', 'games']\n"
     ]
    }
   ],
   "source": [
    "print(data.columns.tolist())"
   ]
  },
  {
   "cell_type": "code",
   "execution_count": 5,
   "metadata": {
    "collapsed": true
   },
   "outputs": [],
   "source": [
    "predictors = ['Position', 'Role', 'Accrued', 'height', 'weight', 'DOB', 'college', # basic info\n",
    "              'Years',  'original_team_id', 'draft_year', 'draft_round', 'draft_pick', # basic NFL history\n",
    "              'overall', 'overall_rk', # pff aggregate grades\n",
    "              'pass', 'run', 'receiving', 'passblock', 'runblock', 'passrush',\n",
    "              'rundefense', 'coverage', 'discipline', 'pass_snaps', 'receiving_snaps',\n",
    "              'passblock_snaps', 'run_snaps', 'runblock_snaps', 'rundefense_snaps', \n",
    "              'passrush_snaps', 'coverage_snaps', 'total_snaps', 'games'] # detailed stats from most recent season\n",
    "\n",
    "target = 'APY'\n",
    "\n",
    "X = data[predictors]\n",
    "Y = data[target]"
   ]
  },
  {
   "cell_type": "markdown",
   "metadata": {},
   "source": [
    "A few preprocessing steps need to happen before we train a model.\n",
    "\n",
    "- Dummy variables: convert categorical variables into several binary variables\n",
    "- Imputation: meaningfully handle missing data\n",
    "\n",
    "### Dummy variables\n",
    "\n",
    "First, identify all categorical variables. These usually have type \"object\" (strings)"
   ]
  },
  {
   "cell_type": "code",
   "execution_count": 6,
   "metadata": {
    "collapsed": false
   },
   "outputs": [
    {
     "data": {
      "text/plain": [
       "Index(['Position', 'Role', 'height', 'DOB', 'college', 'Years', 'overall_rk',\n",
       "       'pass', 'run', 'receiving', 'passblock', 'runblock', 'passrush',\n",
       "       'rundefense', 'coverage'],\n",
       "      dtype='object')"
      ]
     },
     "execution_count": 6,
     "metadata": {},
     "output_type": "execute_result"
    }
   ],
   "source": [
    "X.columns[X.dtypes=='object']"
   ]
  },
  {
   "cell_type": "markdown",
   "metadata": {},
   "source": [
    "We can see a few of these clearly are not categorical. For example, `height` is coded as a string, which we can fix.\n",
    "\n",
    "A few others are easily converted to integers or floats without much work."
   ]
  },
  {
   "cell_type": "code",
   "execution_count": 7,
   "metadata": {
    "collapsed": false
   },
   "outputs": [],
   "source": [
    "# Disable copy warning - it's a weird PANDAS thing\n",
    "pd.options.mode.chained_assignment = None\n",
    "\n",
    "X = X.replace('\\\\N', np.nan)\n",
    "X['Years']      = X['Years'].replace('s', np.nan).astype('float')\n",
    "X['pass']       = X['pass'].astype('float')\n",
    "X['run']        = X['run'].astype('float')\n",
    "X['receiving']  = X['receiving'].astype('float')\n",
    "X['passblock']  = X['passblock'].astype('float')\n",
    "X['runblock']   = X['runblock'].astype('float')\n",
    "X['passrush']   = X['passrush'].astype('float')\n",
    "X['rundefense'] = X['rundefense'].astype('float')\n",
    "X['coverage']   = X['coverage'].astype('float')\n",
    "X['overall_rk'] = X['overall_rk'].astype('float')\n",
    "\n",
    "X['DOB'] = (pd.datetime(2017, 1, 1) - pd.to_datetime(X.DOB)).apply(lambda x: x.days/365) # now means age"
   ]
  },
  {
   "cell_type": "code",
   "execution_count": 8,
   "metadata": {
    "collapsed": false
   },
   "outputs": [],
   "source": [
    "def fixHeight(x):\n",
    "    if pd.isnull(x) or len(x)<2: return np.nan\n",
    "    x = x.split('-')\n",
    "    return int(x[0])*12 + int(x[1])\n",
    "\n",
    "X['height'] = X['height'].replace(' ', np.nan).apply(fixHeight).astype('float')"
   ]
  },
  {
   "cell_type": "markdown",
   "metadata": {},
   "source": [
    "Now we actually make the dummy variables. Let's look at the remaining categorical variables:"
   ]
  },
  {
   "cell_type": "code",
   "execution_count": 9,
   "metadata": {
    "collapsed": false
   },
   "outputs": [
    {
     "name": "stdout",
     "output_type": "stream",
     "text": [
      "Position : 33\n",
      "Role : 3\n",
      "college : 449\n"
     ]
    }
   ],
   "source": [
    "for col in X.columns[X.dtypes=='object']:\n",
    "    print(col, ':', len(X[col].value_counts()))"
   ]
  },
  {
   "cell_type": "markdown",
   "metadata": {},
   "source": [
    "For `college`, the number of features would be unmanageable if we make one for each of the 449 schools. We will just use the top 25 colleges instead."
   ]
  },
  {
   "cell_type": "code",
   "execution_count": 10,
   "metadata": {
    "collapsed": false
   },
   "outputs": [],
   "source": [
    "X.college[X.college.isin(X.college.value_counts()[25:].index)] = np.nan"
   ]
  },
  {
   "cell_type": "code",
   "execution_count": 11,
   "metadata": {
    "collapsed": false
   },
   "outputs": [],
   "source": [
    "# Finally, make the dummy variables.\n",
    "X = pd.concat([X, pd.get_dummies(X[['Position', 'Role', 'college']])], axis=1)\n",
    "\n",
    "X = X.drop(['Position', 'Role', 'college'], axis=1)"
   ]
  },
  {
   "cell_type": "markdown",
   "metadata": {},
   "source": [
    "### Imputation\n",
    "\n",
    "One common approach is to replace missing values with the mean value for that feature. However, sometimes it is useful to \"remember\" which missing values were imputed, so we also add a second column to show which values were imputed."
   ]
  },
  {
   "cell_type": "code",
   "execution_count": 12,
   "metadata": {
    "collapsed": false
   },
   "outputs": [],
   "source": [
    "for col in X.columns:\n",
    "    if X[col].isnull().any():\n",
    "        X[col+'_nan']= X[col].isnull()\n",
    "        X[col] = X[col].fillna(X[col].mean())"
   ]
  },
  {
   "cell_type": "markdown",
   "metadata": {},
   "source": [
    "## Separate Train/Validation/Test Sets\n",
    "\n",
    "We are going to train our model on a fraction of the dataset and validate it on the rest. Additionally, for the first round of the competition, we will submit predictions for the 2017 season to the Kaggle server. Our train/val/test split will look like this:\n",
    "\n",
    "- Train: 2006-2015\n",
    "- Val: 2016\n",
    "- Test: 2017\n",
    "\n",
    "We don't have many records of contracts from earlier than 2016, so you will want to re-train your models before making your final submissions."
   ]
  },
  {
   "cell_type": "code",
   "execution_count": 22,
   "metadata": {
    "collapsed": false
   },
   "outputs": [
    {
     "name": "stdout",
     "output_type": "stream",
     "text": [
      "# training examples: 552\n",
      "# val examples: 698\n",
      "# test examples: 1615\n"
     ]
    }
   ],
   "source": [
    "Xtrain, Ytrain = X[data.year_signed < 2016],  Y[data.year_signed < 2016]/1000000\n",
    "Xval,   Yval   = X[data.year_signed == 2016], Y[data.year_signed == 2016]/1000000\n",
    "Xtest,  _      = X[data.year_signed == 2017], Y[data.year_signed == 2017]/1000000 # throw away APYs\n",
    "\n",
    "print('# training examples:', len(Xtrain))\n",
    "print('# val examples:', len(Xval))\n",
    "print('# test examples:', len(Xtest))\n",
    "\n",
    "# Save train, val, and test sets\n",
    "train = Xtrain.copy(); train['APY_millions'] = Ytrain\n",
    "val   = Xval.copy();   val['APY_millions']   = Yval\n",
    "test  = Xtest.copy();\n",
    "\n",
    "train.to_csv('train.csv')\n",
    "val.to_csv('val.csv')\n",
    "test.to_csv('test.csv')"
   ]
  },
  {
   "cell_type": "markdown",
   "metadata": {},
   "source": [
    "## Build Random Forest model\n",
    "\n",
    "Using our training set, we will train an ensemble of several thousand decision trees. These trees will each independently predict the APY for each player. We then average these predictions together, to get a prediction for the ensemble.\n",
    "\n",
    "For more detailed background on decision trees and forests, check out [MDST's other tutorials](https://github.com/MichiganDataScienceTeam/tutorials/blob/master/tree-based-models/trees.ipynb)."
   ]
  },
  {
   "cell_type": "code",
   "execution_count": 14,
   "metadata": {
    "collapsed": false
   },
   "outputs": [],
   "source": [
    "from sklearn.ensemble import RandomForestRegressor\n",
    "from sklearn.metrics import mean_squared_error"
   ]
  },
  {
   "cell_type": "code",
   "execution_count": 15,
   "metadata": {
    "collapsed": false
   },
   "outputs": [
    {
     "data": {
      "text/plain": [
       "RandomForestRegressor(bootstrap=True, criterion='mse', max_depth=None,\n",
       "           max_features='auto', max_leaf_nodes=None,\n",
       "           min_impurity_decrease=0.0, min_impurity_split=None,\n",
       "           min_samples_leaf=1, min_samples_split=2,\n",
       "           min_weight_fraction_leaf=0.0, n_estimators=5000, n_jobs=-1,\n",
       "           oob_score=False, random_state=None, verbose=0, warm_start=False)"
      ]
     },
     "execution_count": 15,
     "metadata": {},
     "output_type": "execute_result"
    }
   ],
   "source": [
    "# Initialize the forest. We just set the number of trees to 5000 and leave the rest of the options the same.\n",
    "rf = RandomForestRegressor(n_estimators=5000, n_jobs=-1)\n",
    "\n",
    "# Fit the model to training data\n",
    "rf.fit(Xtrain, Ytrain)"
   ]
  },
  {
   "cell_type": "markdown",
   "metadata": {},
   "source": [
    "## Make predictions and evaluate"
   ]
  },
  {
   "cell_type": "code",
   "execution_count": 16,
   "metadata": {
    "collapsed": false
   },
   "outputs": [],
   "source": [
    "# Make predictions on train, val, test\n",
    "Ytrain_hat = rf.predict(Xtrain)\n",
    "Yval_hat = rf.predict(Xval)\n",
    "Ytest_hat = rf.predict(Xtest)"
   ]
  },
  {
   "cell_type": "code",
   "execution_count": 17,
   "metadata": {
    "collapsed": false
   },
   "outputs": [],
   "source": [
    "# Evaluate our model on train and validation\n",
    "mse_train = mean_squared_error(Ytrain_hat, Ytrain)\n",
    "mse_val = mean_squared_error(Yval_hat, Yval)"
   ]
  },
  {
   "cell_type": "code",
   "execution_count": 18,
   "metadata": {
    "collapsed": false
   },
   "outputs": [
    {
     "name": "stdout",
     "output_type": "stream",
     "text": [
      "------ Train ------\n",
      "RF:    MSE = 00.424\n",
      "---- Validation ---\n",
      "Zeros: MSE = 27.301\n",
      "Mean:  MSE = 17.363\n",
      "RF:    MSE = 03.000\n"
     ]
    }
   ],
   "source": [
    "# Compare with some simple baselines\n",
    "print('------ Train ------')\n",
    "print('RF:    MSE = %06.3f'%mse_train)\n",
    "print('---- Validation ---')\n",
    "print('Zeros: MSE = %06.3f'%mean_squared_error([0]*len(Ytrain), Ytrain))\n",
    "print('Mean:  MSE = %06.3f'%mean_squared_error([Ytrain.mean()]*len(Ytrain), Ytrain))\n",
    "print('RF:    MSE = %06.3f'%mse_val)"
   ]
  },
  {
   "cell_type": "markdown",
   "metadata": {},
   "source": [
    "So, our model seems to be doing OK. We achieved an MSE of 3.031, which is better than predicting all zeros or just the average APY. However, our training set performance is much better, than our validation set performance, so we might be overfitting."
   ]
  },
  {
   "cell_type": "code",
   "execution_count": 19,
   "metadata": {
    "collapsed": false
   },
   "outputs": [
    {
     "data": {
      "text/plain": [
       "<matplotlib.legend.Legend at 0x245ffa9af28>"
      ]
     },
     "execution_count": 19,
     "metadata": {},
     "output_type": "execute_result"
    },
    {
     "data": {
      "image/png": "[encoded data removed]",
      "text/plain": [
       "<matplotlib.figure.Figure at 0x245fe992208>"
      ]
     },
     "metadata": {},
     "output_type": "display_data"
    }
   ],
   "source": [
    "# Visualize the predictions\n",
    "\n",
    "plt.scatter(Yval_hat, Yval)\n",
    "plt.plot([0, 25], [0, 25], 'r-')\n",
    "plt.xlabel('Predicted APY ($10Million)')\n",
    "plt.ylabel('Actual APY ($10Million)')\n",
    "plt.legend([ 'perfect', 'RF'])"
   ]
  },
  {
   "cell_type": "markdown",
   "metadata": {},
   "source": [
    "## Export predictions for Kaggle\n",
    "\n",
    "Check out the [Kaggle page](https://www.kaggle.com/c/nfl-free-agent-value) to submit to the first round of the competition!"
   ]
  },
  {
   "cell_type": "code",
   "execution_count": 20,
   "metadata": {
    "collapsed": false
   },
   "outputs": [],
   "source": [
    "pd.DataFrame({'Contract_ID': Xtest.index, 'APY_millions':Ytest_hat}).to_csv('rf_submission.csv', index=False)"
   ]
  },
  {
   "cell_type": "code",
   "execution_count": null,
   "metadata": {
    "collapsed": true
   },
   "outputs": [],
   "source": []
  }
 ],
 "metadata": {
  "kernelspec": {
   "display_name": "Python 3",
   "language": "python",
   "name": "python3"
  },
  "language_info": {
   "codemirror_mode": {
    "name": "ipython",
    "version": 3
   },
   "file_extension": ".py",
   "mimetype": "text/x-python",
   "name": "python",
   "nbconvert_exporter": "python",
   "pygments_lexer": "ipython3",
   "version": "3.6.0"
  }
 },
 "nbformat": 4,
 "nbformat_minor": 0
}
